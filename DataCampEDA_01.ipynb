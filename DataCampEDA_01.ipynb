{
 "cells": [
  {
   "cell_type": "code",
   "execution_count": null,
   "metadata": {},
   "outputs": [],
   "source": [
    "import numpy as np\n",
    "import pandas as pd\n",
    "import matplotlib.pyplot as plt\n",
    "import seaborn as sns"
   ]
  },
  {
   "cell_type": "code",
   "execution_count": null,
   "metadata": {},
   "outputs": [],
   "source": [
    "sns.set()"
   ]
  },
  {
   "cell_type": "code",
   "execution_count": null,
   "metadata": {},
   "outputs": [],
   "source": [
    "iris = pd.read_csv('.\\Data\\IrisData.csv')"
   ]
  },
  {
   "cell_type": "code",
   "execution_count": null,
   "metadata": {},
   "outputs": [],
   "source": [
    "#print(iris.info())\n",
    "#iris.class_name.unique()\n",
    "iris[iris.class_name=='Iris-versicolor'].petal_length_cm"
   ]
  },
  {
   "cell_type": "code",
   "execution_count": null,
   "metadata": {},
   "outputs": [],
   "source": [
    "plt.subplot(1, 2, 1)\n",
    "_ = plt.hist(iris.petal_length_cm)\n",
    "plt.xlabel('Iris Petal Length')\n",
    "#plt.show()\n",
    "plt.subplot(1, 2, 2)\n",
    "\n",
    "_ = plt.hist(iris[iris.class_name=='Iris-versicolor'].petal_length_cm)\n",
    "plt.xlabel('Versicolor Petal Length (cm)')\n",
    "plt.ylabel('Count')\n",
    "plt.show()"
   ]
  },
  {
   "cell_type": "code",
   "execution_count": null,
   "metadata": {},
   "outputs": [],
   "source": [
    "versicolor = iris[iris.class_name=='Iris-versicolor'].petal_length_cm\n",
    "setosa = iris[iris.class_name=='Iris-setosa'].petal_length_cm\n",
    "virginica = iris[iris.class_name=='Iris-virginica'].petal_length_cm"
   ]
  },
  {
   "cell_type": "code",
   "execution_count": null,
   "metadata": {},
   "outputs": [],
   "source": [
    "percentiles = np.array([2.5, 25, 50, 75, 97.5])\n",
    "ptiles_ver = np.percentile(versicolor, percentiles)\n",
    "ptiles_set = np.percentile(setosa, percentiles)\n",
    "ptiles_vir = np.percentile(virginica, percentiles)"
   ]
  },
  {
   "cell_type": "code",
   "execution_count": null,
   "metadata": {},
   "outputs": [],
   "source": [
    "n_bins = int(np.sqrt(len(versicolor)))\n",
    "_ = plt.hist(versicolor, bins=n_bins)\n",
    "_ = plt.xlabel('Verscolor Petal Length (cm)')\n",
    "_ = plt.ylabel('Count')\n",
    "plt.show()"
   ]
  },
  {
   "cell_type": "code",
   "execution_count": null,
   "metadata": {},
   "outputs": [],
   "source": [
    "#Bee Swarm plot\n",
    "_ = sns.swarmplot(x='class_name', y='petal_length_cm', data=iris)\n",
    "_ = plt.xlabel('Class Name')\n",
    "_ = plt.ylabel('Petal Length (cm)')\n",
    "plt.show()"
   ]
  },
  {
   "cell_type": "code",
   "execution_count": null,
   "metadata": {},
   "outputs": [],
   "source": [
    "#ECDF \n",
    "def ecdf(data):\n",
    "    n = len(data)\n",
    "    x = np.sort(data)\n",
    "    y = np.arange(1, n+1)/n\n",
    "    return x, y"
   ]
  },
  {
   "cell_type": "code",
   "execution_count": null,
   "metadata": {},
   "outputs": [],
   "source": [
    "x_ver, y_ver = ecdf(versicolor)\n",
    "x_set, y_set = ecdf(setosa)\n",
    "x_vir, y_vir = ecdf(virginica)\n",
    "_ = plt.plot(x_set, y_set, marker='.', linestyle='none')\n",
    "_ = plt.plot(x_ver, y_ver, marker='.', linestyle='none')\n",
    "_ = plt.plot(x_vir, y_vir, marker='.', linestyle='none')\n",
    "\n",
    "_ = plt.plot(ptiles_set, percentiles/100, marker='D', linestyle='none', color='red')\n",
    "_ = plt.plot(ptiles_ver, percentiles/100, marker='D', linestyle='none', color='red')\n",
    "_ = plt.plot(ptiles_vir, percentiles/100, marker='D', linestyle='none', color='red')\n",
    "\n",
    "_ = plt.margins(0.02)\n",
    "_ = plt.legend(('setosa', 'versicolor', 'virginica'), loc='lower right')\n",
    "_ = plt.xlabel('Petal Length (cm)')\n",
    "_ = plt.ylabel('ECDF')\n",
    "plt.show()"
   ]
  },
  {
   "cell_type": "code",
   "execution_count": null,
   "metadata": {},
   "outputs": [],
   "source": [
    "sns.boxplot(x='class_name', y='petal_length_cm', data=iris)\n",
    "_ = plt.xlabel('Species')\n",
    "_ = plt.ylabel('Petal Length (cm)')\n",
    "plt.show()"
   ]
  },
  {
   "cell_type": "code",
   "execution_count": null,
   "metadata": {},
   "outputs": [],
   "source": [
    "_ = plt.plot(iris.petal_length_cm, iris.petal_width_cm, marker='.', linestyle='none')\n",
    "_ = plt.xlabel('Petal Length (cm)')\n",
    "_ = plt.ylabel('Petal Width (cm)')\n",
    "plt.show()"
   ]
  },
  {
   "cell_type": "code",
   "execution_count": null,
   "metadata": {},
   "outputs": [],
   "source": []
  }
 ],
 "metadata": {
  "kernelspec": {
   "display_name": "Python 3",
   "language": "python",
   "name": "python3"
  },
  "language_info": {
   "codemirror_mode": {
    "name": "ipython",
    "version": 3
   },
   "file_extension": ".py",
   "mimetype": "text/x-python",
   "name": "python",
   "nbconvert_exporter": "python",
   "pygments_lexer": "ipython3",
   "version": "3.7.1"
  }
 },
 "nbformat": 4,
 "nbformat_minor": 2
}
