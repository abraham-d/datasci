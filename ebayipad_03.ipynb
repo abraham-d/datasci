{
 "cells": [
  {
   "cell_type": "code",
   "execution_count": null,
   "metadata": {},
   "outputs": [],
   "source": [
    "import numpy as np\n",
    "import pandas as pd\n",
    "import matplotlib.pyplot as plt\n",
    "\n",
    "from sklearn.feature_extraction import text\n",
    "from sklearn.feature_extraction.text import CountVectorizer\n",
    "from sklearn.preprocessing import FunctionTransformer, MaxAbsScaler\n",
    "from sklearn.pipeline import Pipeline, FeatureUnion\n",
    "from sklearn.ensemble import RandomForestClassifier\n",
    "from sklearn.model_selection import train_test_split\n",
    "from sklearn.linear_model import LogisticRegression\n",
    "from sklearn.feature_extraction.text import HashingVectorizer\n",
    "from sklearn.feature_selection import chi2, SelectKBest\n",
    "from sklearn.preprocessing import StandardScaler"
   ]
  },
  {
   "cell_type": "code",
   "execution_count": null,
   "metadata": {},
   "outputs": [],
   "source": [
    "chi_k = 400"
   ]
  },
  {
   "cell_type": "code",
   "execution_count": null,
   "metadata": {},
   "outputs": [],
   "source": [
    "df = pd.read_csv('./Data/eBayiPadTrain_copy.csv', header=0)\n",
    "df_test = pd.read_csv('./Data/eBayiPadTest_copy.csv', header=0)"
   ]
  },
  {
   "cell_type": "code",
   "execution_count": null,
   "metadata": {},
   "outputs": [],
   "source": [
    "description = np.concatenate((df.description.fillna(''), df_test.description.fillna('')))"
   ]
  },
  {
   "cell_type": "code",
   "execution_count": null,
   "metadata": {},
   "outputs": [],
   "source": [
    "stop_words = text.ENGLISH_STOP_WORDS.union(['apple', 'ipad', 'mini'])\n",
    "ALPHANUMERIC_PATTERN = '[A-Za-z0-9]+(?=\\\\s+)'\n",
    "vec = CountVectorizer(token_pattern=ALPHANUMERIC_PATTERN, stop_words=stop_words)\n",
    "vec.fit(description)\n",
    "vocabulary = vec.get_feature_names()\n",
    "print(\"There are {} tokens in the dataset\".format(len(vocabulary)))"
   ]
  },
  {
   "cell_type": "code",
   "execution_count": null,
   "metadata": {},
   "outputs": [],
   "source": [
    "TEXT_COLUMNS = ['description']\n",
    "NUMERIC_COLUMNS = ['biddable', 'startprice']\n",
    "LABELS = ['condition', 'cellular', 'carrier', 'color', 'storage', 'productline']"
   ]
  },
  {
   "cell_type": "code",
   "execution_count": null,
   "metadata": {},
   "outputs": [],
   "source": [
    "categorize_label = lambda x: x.astype('category')\n",
    "df[LABELS] = df[LABELS].apply(categorize_label, axis=0)"
   ]
  },
  {
   "cell_type": "code",
   "execution_count": null,
   "metadata": {},
   "outputs": [],
   "source": [
    "def get_description(data_frame):\n",
    "    return data_frame.description.fillna('')"
   ]
  },
  {
   "cell_type": "code",
   "execution_count": null,
   "metadata": {},
   "outputs": [],
   "source": [
    "get_text_data = FunctionTransformer(get_description, validate=False)\n",
    "get_numeric_data = FunctionTransformer(lambda x: x[NUMERIC_COLUMNS], validate=False)\n",
    "get_categoric_data = FunctionTransformer(lambda x: pd.get_dummies(x[LABELS]), validate=False)"
   ]
  },
  {
   "cell_type": "code",
   "execution_count": null,
   "metadata": {},
   "outputs": [],
   "source": [
    "X = df\n",
    "y = df.sold\n",
    "X_train, X_test, y_train, y_test = train_test_split(X, y, test_size=0.3, random_state=64)"
   ]
  },
  {
   "cell_type": "code",
   "execution_count": null,
   "metadata": {},
   "outputs": [],
   "source": [
    "from sklearn.neighbors import KNeighborsClassifier\n",
    "from sklearn.preprocessing import PolynomialFeatures\n",
    "from sklearn.linear_model import (LinearRegression, TheilSenRegressor, RANSACRegressor, HuberRegressor)\n",
    "from sklearn.pipeline import make_pipeline\n",
    "from sklearn import svm\n",
    "from sklearn.naive_bayes import MultinomialNB\n",
    "from sklearn.ensemble import AdaBoostClassifier"
   ]
  },
  {
   "cell_type": "code",
   "execution_count": null,
   "metadata": {},
   "outputs": [],
   "source": [
    "import keras\n",
    "from keras.models import Sequential\n",
    "from keras.layers import Dense, Dropout, Activation\n",
    "from keras.optimizers import SGD\n",
    "from keras.wrappers.scikit_learn import KerasClassifier\n",
    "from keras.callbacks import EarlyStopping\n",
    "\n",
    "def getmodel():\n",
    "    model = Sequential()\n",
    "    input_shape=(844,)\n",
    "    model.add(Dense(500, activation='relu', input_shape=input_shape))\n",
    "    model.add(Dense(500, activation='relu', input_shape=input_shape))\n",
    "    model.add(Dense(500, activation='relu', input_shape=input_shape))\n",
    "    model.add(Dense(500, activation='relu', input_shape=input_shape))\n",
    "    model.add(Dense(500, activation='relu', input_shape=input_shape))\n",
    "    model.add(Dense(2, activation='softmax'))\n",
    "    model.compile(optimizer='adam', loss='categorical_crossentropy', metrics=['accuracy'])\n",
    "    return model\n",
    "\n",
    "early_stopping_monitor = EarlyStopping(patience=3)\n",
    "#clf = KerasClassifier(getmodel, epochs=100, verbose=1, validation_split=0.20, callbacks=[early_stopping_monitor])\n",
    "clf = KerasClassifier(getmodel, epochs=100, verbose=1, callbacks=[early_stopping_monitor])"
   ]
  },
  {
   "cell_type": "code",
   "execution_count": null,
   "metadata": {},
   "outputs": [],
   "source": [
    "pl = Pipeline([\n",
    "    ('union', FeatureUnion(\n",
    "    transformer_list=[\n",
    "        ('numeric_features', Pipeline([\n",
    "            ('selector', get_numeric_data),\n",
    "            #('scaler', StandardScaler())\n",
    "        ])),\n",
    "        ('categoric_features', Pipeline([\n",
    "            ('selector', get_categoric_data)\n",
    "        ])),\n",
    "        ('text_features', Pipeline([\n",
    "            ('selector', get_text_data),\n",
    "            ('vectorizer', CountVectorizer(vocabulary=vocabulary))\n",
    "            #('dim_red', SelectKBest(chi2, chi_k))\n",
    "        ]))\n",
    "    ])),\n",
    "    ('clf', clf)\n",
    "    #('clf', make_pipeline(PolynomialFeatures(2, interaction_only=True), LinearRegression()))\n",
    "    #('clf', KNeighborsClassifier(n_neighbors=5))\n",
    "    #('clf', RandomForestClassifier(n_estimators=250))\n",
    "    #('clf', svm.SVC(gamma='scale'))\n",
    "    #('clf', MultinomialNB())\n",
    "    #('clf', AdaBoostClassifier(n_estimators=300))\n",
    "    #('clf', LogisticRegression(solver='newton-cg', penalty='l2'))\n",
    "])"
   ]
  },
  {
   "cell_type": "code",
   "execution_count": null,
   "metadata": {},
   "outputs": [],
   "source": [
    "pl.fit(X_train, y_train)\n",
    "accuracy = pl.score(X_test, y_test)\n",
    "\n",
    "print(\"\\nAccuracy: \", accuracy)"
   ]
  }
 ],
 "metadata": {
  "kernelspec": {
   "display_name": "Python 3",
   "language": "python",
   "name": "python3"
  },
  "language_info": {
   "codemirror_mode": {
    "name": "ipython",
    "version": 3
   },
   "file_extension": ".py",
   "mimetype": "text/x-python",
   "name": "python",
   "nbconvert_exporter": "python",
   "pygments_lexer": "ipython3",
   "version": "3.7.1"
  }
 },
 "nbformat": 4,
 "nbformat_minor": 2
}
