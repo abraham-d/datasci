{
 "cells": [
  {
   "cell_type": "code",
   "execution_count": null,
   "metadata": {},
   "outputs": [],
   "source": [
    "import pandas as pd"
   ]
  },
  {
   "cell_type": "code",
   "execution_count": null,
   "metadata": {},
   "outputs": [],
   "source": [
    "#%pwd"
   ]
  },
  {
   "cell_type": "code",
   "execution_count": null,
   "metadata": {},
   "outputs": [],
   "source": [
    "df = pd.read_csv('.\\\\Data\\\\trainingdata_schoolbudget.csv', index_col=0)"
   ]
  },
  {
   "cell_type": "code",
   "execution_count": null,
   "metadata": {},
   "outputs": [],
   "source": [
    "df.info()"
   ]
  },
  {
   "cell_type": "code",
   "execution_count": null,
   "metadata": {},
   "outputs": [],
   "source": [
    "df.head()"
   ]
  },
  {
   "cell_type": "code",
   "execution_count": null,
   "metadata": {},
   "outputs": [],
   "source": [
    "df.describe()"
   ]
  },
  {
   "cell_type": "code",
   "execution_count": null,
   "metadata": {},
   "outputs": [],
   "source": [
    "import matplotlib.pyplot as plt"
   ]
  },
  {
   "cell_type": "code",
   "execution_count": null,
   "metadata": {},
   "outputs": [],
   "source": [
    "plt.hist(df['FTE'].dropna())\n",
    "plt.title('Distribution of %full-time\\n employee works')\n",
    "plt.xlabel('% of full-time')\n",
    "plt.ylabel('num employees')\n",
    "plt.show()"
   ]
  },
  {
   "cell_type": "code",
   "execution_count": null,
   "metadata": {},
   "outputs": [],
   "source": [
    "LABELS=['Function',\n",
    " 'Use',\n",
    " 'Sharing',\n",
    " 'Reporting',\n",
    " 'Student_Type',\n",
    " 'Position_Type',\n",
    " 'Object_Type',\n",
    " 'Pre_K',\n",
    " 'Operating_Status']\n",
    "\n",
    "NUMERIC_COLUMNS=['FTE', 'Total']"
   ]
  },
  {
   "cell_type": "code",
   "execution_count": null,
   "metadata": {},
   "outputs": [],
   "source": [
    "df[LABELS].dtypes"
   ]
  },
  {
   "cell_type": "code",
   "execution_count": null,
   "metadata": {},
   "outputs": [],
   "source": [
    "#categorizing the labels\n",
    "categorize_label = lambda x: x.astype('category')"
   ]
  },
  {
   "cell_type": "code",
   "execution_count": null,
   "metadata": {},
   "outputs": [],
   "source": [
    "df[LABELS] = df[LABELS].apply(categorize_label, axis=0)"
   ]
  },
  {
   "cell_type": "code",
   "execution_count": null,
   "metadata": {},
   "outputs": [],
   "source": [
    "df[LABELS].dtypes"
   ]
  },
  {
   "cell_type": "code",
   "execution_count": null,
   "metadata": {},
   "outputs": [],
   "source": [
    "#counting unique labels\n",
    "num_unique_labels = df[LABELS].apply(pd.Series.nunique, axis=0)\n",
    "#print(sum(num_unique_labels))\n",
    "_ = num_unique_labels.plot(kind='bar')\n",
    "_ = plt.xlabel('label')\n",
    "_ = plt.ylabel('num unique labels')\n",
    "plt.show()"
   ]
  },
  {
   "cell_type": "code",
   "execution_count": null,
   "metadata": {},
   "outputs": [],
   "source": [
    "import numpy as np\n",
    "\n",
    "def compute_log_loss(predicted, actual, eps=1e-14):\n",
    "    \"\"\" Computes the logarithmic loss between predicted and actual\n",
    "        when these are 1D arrays.\n",
    "        :param predicted: the predicted probabilites as float between 0 - 1\n",
    "        :param actual: the actual binary label 0 - 1\n",
    "        :param eps: log(0) is inf, so to offset predicted values slightly by eps\n",
    "    \"\"\"\n",
    "    predicted = np.clip(predicted, eps, 1 - eps)\n",
    "    loss = -1 * np.mean(actual * np.log(predicted)\n",
    "                       + (1 - actual)\n",
    "                       * np.log(1 - predicted))\n",
    "    return loss"
   ]
  },
  {
   "cell_type": "code",
   "execution_count": null,
   "metadata": {},
   "outputs": [],
   "source": [
    "print(\"Log Loss, wrong and confident: {}\".format(compute_log_loss(0.9, 0)))\n",
    "print(\"Log Loss, correct and confident: {}\".format(compute_log_loss(0.9, 1)))\n",
    "print(\"Log Loss, wrong and not confident: {}\".format(compute_log_loss(0.5, 1)))\n",
    "print(\"Log Loss, correct and not confident: {}\".format(compute_log_loss(0.5, 0)))"
   ]
  },
  {
   "cell_type": "code",
   "execution_count": null,
   "metadata": {},
   "outputs": [],
   "source": [
    "#import myutils.multilabel\n",
    "#help(myutils)\n",
    "#from myutils import multilabel\n",
    "import myutils\n",
    "#help(multilabel.multilabel_sample)\n",
    "#help(myutils)\n",
    "help(myutils.multilabel_train_test_split)"
   ]
  },
  {
   "cell_type": "code",
   "execution_count": null,
   "metadata": {},
   "outputs": [],
   "source": [
    "numeric_data = df[NUMERIC_COLUMNS].fillna(-1000)\n",
    "label_dummies = pd.get_dummies(df[LABELS])\n",
    "\n",
    "X_train, X_test, y_train, y_test = myutils.multilabel_train_test_split(numeric_data, label_dummies, size=0.2, seed=123)\n",
    "#print(\"X_train info: {}\".format(X_train.info()))\n",
    "#print(\"-------------------\")\n",
    "#print(\"X_test info: {}\".format(X_test.info()))\n",
    "#print(\"-------------------\")\n",
    "#print(\"y_train info: {}\".format(y_train.info()))\n",
    "#print(\"-------------------\")\n",
    "#print(\"y_test info: {}\".format(y_test.info()))"
   ]
  },
  {
   "cell_type": "code",
   "execution_count": null,
   "metadata": {},
   "outputs": [],
   "source": [
    "from sklearn.linear_model import LogisticRegression\n",
    "from sklearn.multiclass import OneVsRestClassifier\n",
    "\n",
    "clf = OneVsRestClassifier(LogisticRegression(solver='lbfgs'))\n",
    "\n",
    "clf.fit(X_train, y_train)\n",
    "print(\"Accuracy: {}\".format(clf.score(X_test, y_test)))"
   ]
  },
  {
   "cell_type": "code",
   "execution_count": null,
   "metadata": {},
   "outputs": [],
   "source": [
    "holdout = pd.read_csv('./Data/HoldoutData_schoolbudget.csv', index_col=0)"
   ]
  },
  {
   "cell_type": "code",
   "execution_count": null,
   "metadata": {},
   "outputs": [],
   "source": [
    "holdout = holdout[NUMERIC_COLUMNS].fillna(-1000)"
   ]
  },
  {
   "cell_type": "code",
   "execution_count": null,
   "metadata": {},
   "outputs": [],
   "source": [
    "predictions = clf.predict_proba(holdout)"
   ]
  },
  {
   "cell_type": "code",
   "execution_count": null,
   "metadata": {},
   "outputs": [],
   "source": [
    "cols = pd.get_dummies(df[LABELS], prefix_sep='__').columns\n",
    "predictions = pd.DataFrame(data=predictions, index=holdout.index, columns=cols)"
   ]
  },
  {
   "cell_type": "code",
   "execution_count": null,
   "metadata": {},
   "outputs": [],
   "source": [
    "predictions.head()"
   ]
  },
  {
   "cell_type": "code",
   "execution_count": null,
   "metadata": {},
   "outputs": [],
   "source": [
    "#df.columns - LABELS\n",
    "#df.Text_1\n",
    "#LABELS\n",
    "#set(df.columns) - set(LABELS + NUMERIC_COLUMNS)"
   ]
  },
  {
   "cell_type": "code",
   "execution_count": null,
   "metadata": {},
   "outputs": [],
   "source": [
    "def combine_text_columns(data_frame, to_drop=LABELS+NUMERIC_COLUMNS):\n",
    "    to_drop = set(to_drop) & set(data_frame.columns.tolist())\n",
    "    text_data = data_frame.drop(to_drop, axis=1)\n",
    "    text_data.fillna('', inplace=True)\n",
    "    return text_data.apply(lambda x: \" \".join(x), axis=1)"
   ]
  },
  {
   "cell_type": "code",
   "execution_count": null,
   "metadata": {},
   "outputs": [],
   "source": [
    "text_data = combine_text_columns(df)"
   ]
  },
  {
   "cell_type": "code",
   "execution_count": null,
   "metadata": {},
   "outputs": [],
   "source": [
    "from sklearn.feature_extraction.text import CountVectorizer\n",
    "BASIC_PATTERN = '\\\\S+(?=\\\\s+)'\n",
    "ALPHANUMERIC_PATTERN = '[A-Za-z0-9]+(?=\\\\s+)'\n",
    "\n",
    "vec_basic = CountVectorizer(token_pattern=BASIC_PATTERN)\n",
    "vec_alphanumeric = CountVectorizer(token_pattern=ALPHANUMERIC_PATTERN)\n",
    "\n",
    "vec_basic.fit_transform(text_data)\n",
    "print(\"There are {} tokens in the dataset\".format(len(vec_basic.get_feature_names())))\n",
    "\n",
    "vec_alphanumeric.fit_transform(text_data)\n",
    "print(\"There are {} tokens in the dataset\".format(len(vec_alphanumeric.get_feature_names())))"
   ]
  },
  {
   "cell_type": "code",
   "execution_count": null,
   "metadata": {},
   "outputs": [],
   "source": [
    "from sklearn.preprocessing import FunctionTransformer\n",
    "from sklearn.pipeline import Pipeline, FeatureUnion\n",
    "from sklearn.preprocessing import Imputer\n",
    "from sklearn import impute\n",
    "\n",
    "dummy_labels = pd.get_dummies(df[LABELS])\n",
    "\n",
    "NON_LABELS = [c for c in df.columns if c not in LABELS]\n",
    "\n",
    "X_train, X_test, y_train, y_test = myutils.multilabel_train_test_split(df[NON_LABELS], dummy_labels, 0.2, seed=123)"
   ]
  },
  {
   "cell_type": "code",
   "execution_count": null,
   "metadata": {},
   "outputs": [],
   "source": [
    "get_text_data = FunctionTransformer(combine_text_columns, validate=False)\n",
    "get_numeric_data = FunctionTransformer(lambda x: x[NUMERIC_COLUMNS], validate=False)\n",
    "\n",
    "pl = Pipeline([\n",
    "    ('union', FeatureUnion(\n",
    "    transformer_list=[\n",
    "        ('numeric_features', Pipeline([\n",
    "            ('selector', get_numeric_data),\n",
    "            ('imputer', impute.SimpleImputer())\n",
    "        ])),\n",
    "        ('text_features', Pipeline([\n",
    "            ('selector', get_text_data),\n",
    "            ('vectorizer', CountVectorizer())\n",
    "        ]))\n",
    "    ])),\n",
    "    ('clf', OneVsRestClassifier(LogisticRegression(solver='lbfgs', multi_class='multinomial', C=0.01, max_iter=1000)))\n",
    "])\n",
    "\n",
    "pl.fit(X_train, y_train)\n",
    "accuracy = pl.score(X_test, y_test)\n",
    "\n",
    "print(\"\\nAccuracy: \", accuracy)"
   ]
  },
  {
   "cell_type": "code",
   "execution_count": null,
   "metadata": {},
   "outputs": [],
   "source": [
    "from sklearn.ensemble import RandomForestClassifier\n",
    "pl = Pipeline([\n",
    "    ('union', FeatureUnion(\n",
    "    transformer_list=[\n",
    "        ('numeric_features', Pipeline([\n",
    "            ('selector', get_numeric_data),\n",
    "            ('imputer', impute.SimpleImputer())\n",
    "        ])),\n",
    "        ('text_features', Pipeline([\n",
    "            ('selector', get_text_data),\n",
    "            ('vectorizer', CountVectorizer())\n",
    "        ]))\n",
    "    ])),\n",
    "    ('clf', OneVsRestClassifier(RandomForestClassifier(n_estimators=30)))\n",
    "])\n",
    "\n",
    "pl.fit(X_train, y_train)\n",
    "accuracy = pl.score(X_test, y_test)\n",
    "\n",
    "print(\"\\nAccuracy: \", accuracy)"
   ]
  },
  {
   "cell_type": "code",
   "execution_count": null,
   "metadata": {},
   "outputs": [],
   "source": [
    "pl = Pipeline([\n",
    "    ('union', FeatureUnion(\n",
    "    transformer_list=[\n",
    "        ('numeric_features', Pipeline([\n",
    "            ('selector', get_numeric_data),\n",
    "            ('imputer', impute.SimpleImputer())\n",
    "        ])),\n",
    "        ('text_features', Pipeline([\n",
    "            ('selector', get_text_data),\n",
    "            ('vectorizer', CountVectorizer())\n",
    "        ]))\n",
    "    ])),\n",
    "    ('clf', OneVsRestClassifier(RandomForestClassifier(n_estimators=15)))\n",
    "])\n",
    "\n",
    "pl.fit(X_train, y_train)\n",
    "accuracy = pl.score(X_test, y_test)\n",
    "\n",
    "print(\"\\nAccuracy: \", accuracy)"
   ]
  },
  {
   "cell_type": "code",
   "execution_count": null,
   "metadata": {},
   "outputs": [],
   "source": [
    "pl = Pipeline([\n",
    "    ('union', FeatureUnion(\n",
    "    transformer_list=[\n",
    "        ('numeric_features', Pipeline([\n",
    "            ('selector', get_numeric_data),\n",
    "            ('imputer', impute.SimpleImputer())\n",
    "        ])),\n",
    "        ('text_features', Pipeline([\n",
    "            ('selector', get_text_data),\n",
    "            ('vectorizer', CountVectorizer(token_pattern=ALPHANUMERIC_PATTERN, ngram_range=(1, 2)))\n",
    "        ]))\n",
    "    ])),\n",
    "    ('clf', OneVsRestClassifier(RandomForestClassifier(n_estimators=35)))\n",
    "])\n",
    "\n",
    "pl.fit(X_train, y_train)\n",
    "accuracy = pl.score(X_test, y_test)\n",
    "\n",
    "print(\"\\nAccuracy: \", accuracy)"
   ]
  },
  {
   "cell_type": "code",
   "execution_count": null,
   "metadata": {},
   "outputs": [],
   "source": [
    "from sklearn.feature_extraction.text import HashingVectorizer\n",
    "pl = Pipeline([\n",
    "    ('union', FeatureUnion(\n",
    "    transformer_list=[\n",
    "        ('numeric_features', Pipeline([\n",
    "            ('selector', get_numeric_data),\n",
    "            ('imputer', impute.SimpleImputer())\n",
    "        ])),\n",
    "        ('text_features', Pipeline([\n",
    "            ('selector', get_text_data),\n",
    "            ('vectorizer', HashingVectorizer(token_pattern=ALPHANUMERIC_PATTERN, norm=None, ngram_range=(1, 2)))\n",
    "        ]))\n",
    "    ])),\n",
    "    ('clf', OneVsRestClassifier(RandomForestClassifier(n_estimators=35)))\n",
    "])\n",
    "\n",
    "pl.fit(X_train, y_train)\n",
    "accuracy = pl.score(X_test, y_test)\n",
    "\n",
    "print(\"\\nAccuracy: \", accuracy)"
   ]
  },
  {
   "cell_type": "code",
   "execution_count": null,
   "metadata": {},
   "outputs": [],
   "source": [
    "from sklearn.feature_selection import chi2, SelectKBest\n",
    "from sklearn.preprocessing import MaxAbsScaler\n",
    "\n",
    "chi_k = 300\n",
    "\n",
    "pl = Pipeline([\n",
    "    ('union', FeatureUnion(\n",
    "    transformer_list=[\n",
    "        ('numeric_features', Pipeline([\n",
    "            ('selector', get_numeric_data),\n",
    "            ('imputer', impute.SimpleImputer())\n",
    "        ])),\n",
    "        ('text_features', Pipeline([\n",
    "            ('selector', get_text_data),\n",
    "            ('vectorizer', CountVectorizer(token_pattern=ALPHANUMERIC_PATTERN, ngram_range=(1, 2))),\n",
    "            ('dim_red', SelectKBest(chi2, chi_k))\n",
    "        ]))\n",
    "    ])),\n",
    "    ('scale', MaxAbsScaler()),\n",
    "    ('clf', OneVsRestClassifier(LogisticRegression(solver='lbfgs', dual=False, multi_class='multinomial')))\n",
    "])\n",
    "\n",
    "pl.fit(X_train, y_train)\n",
    "accuracy = pl.score(X_test, y_test)\n",
    "\n",
    "print(\"\\nAccuracy: \", accuracy)"
   ]
  },
  {
   "cell_type": "code",
   "execution_count": null,
   "metadata": {},
   "outputs": [],
   "source": [
    "import os\n",
    "import sys\n",
    "#print(os.getcwd())\n",
    "#print(sys.path)\n",
    "src_dir = os.path.join(os.getcwd(), 'myutils')\n",
    "#print(src_dir)\n",
    "sys.path.append(src_dir)\n",
    "from myutils.sparseinteractions import SparseInteractions"
   ]
  },
  {
   "cell_type": "code",
   "execution_count": null,
   "metadata": {},
   "outputs": [],
   "source": [
    "%%time\n",
    "chi_k = 300\n",
    "\n",
    "pl = Pipeline([\n",
    "    ('union', FeatureUnion(\n",
    "    transformer_list=[\n",
    "        ('numeric_features', Pipeline([\n",
    "            ('selector', get_numeric_data),\n",
    "            ('imputer', impute.SimpleImputer())\n",
    "        ])),\n",
    "        ('text_features', Pipeline([\n",
    "            ('selector', get_text_data),\n",
    "            ('vectorizer', CountVectorizer(token_pattern=ALPHANUMERIC_PATTERN, ngram_range=(1, 2))),\n",
    "            ('dim_red', SelectKBest(chi2, chi_k))\n",
    "        ]))\n",
    "    ])),\n",
    "    ('int', SparseInteractions(degree=2)),\n",
    "    ('scale', MaxAbsScaler()),\n",
    "    ('clf', OneVsRestClassifier(LogisticRegression(solver='lbfgs', dual=False, multi_class='multinomial')))\n",
    "])\n",
    "\n",
    "pl.fit(X_train, y_train)\n",
    "accuracy = pl.score(X_test, y_test)\n",
    "\n",
    "print(\"\\nAccuracy: \", accuracy)"
   ]
  },
  {
   "cell_type": "code",
   "execution_count": null,
   "metadata": {},
   "outputs": [],
   "source": [
    "%%time\n",
    "from sklearn.feature_extraction.text import HashingVectorizer\n",
    "\n",
    "chi_k = 300\n",
    "\n",
    "pl = Pipeline([\n",
    "    ('union', FeatureUnion(\n",
    "    transformer_list=[\n",
    "        ('numeric_features', Pipeline([\n",
    "            ('selector', get_numeric_data),\n",
    "            ('imputer', impute.SimpleImputer())\n",
    "        ])),\n",
    "        ('text_features', Pipeline([\n",
    "            ('selector', get_text_data),\n",
    "            ('vectorizer', HashingVectorizer(token_pattern=ALPHANUMERIC_PATTERN, non_negative=True, norm=None, ngram_range=(1, 2))),\n",
    "            ('dim_red', SelectKBest(chi2, chi_k))\n",
    "        ]))\n",
    "    ])),\n",
    "    ('int', SparseInteractions(degree=2)),\n",
    "    ('scale', MaxAbsScaler()),\n",
    "    ('clf', OneVsRestClassifier(LogisticRegression(solver='lbfgs', max_iter=500, multi_class='multinomial')))\n",
    "])\n",
    "\n",
    "pl.fit(X_train, y_train)\n",
    "accuracy = pl.score(X_test, y_test)\n",
    "\n",
    "print(\"\\nAccuracy: \", accuracy)"
   ]
  },
  {
   "cell_type": "code",
   "execution_count": null,
   "metadata": {},
   "outputs": [],
   "source": []
  }
 ],
 "metadata": {
  "kernelspec": {
   "display_name": "Python 3",
   "language": "python",
   "name": "python3"
  },
  "language_info": {
   "codemirror_mode": {
    "name": "ipython",
    "version": 3
   },
   "file_extension": ".py",
   "mimetype": "text/x-python",
   "name": "python",
   "nbconvert_exporter": "python",
   "pygments_lexer": "ipython3",
   "version": "3.7.1"
  }
 },
 "nbformat": 4,
 "nbformat_minor": 2
}
