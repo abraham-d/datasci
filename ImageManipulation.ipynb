{
 "cells": [
  {
   "cell_type": "code",
   "execution_count": null,
   "metadata": {},
   "outputs": [],
   "source": [
    "import numpy as np\n",
    "import matplotlib.pyplot as plt"
   ]
  },
  {
   "cell_type": "code",
   "execution_count": null,
   "metadata": {},
   "outputs": [],
   "source": [
    "img = plt.imread('.\\\\Data\\\\480pxAstronautEVA.jpg')"
   ]
  },
  {
   "cell_type": "code",
   "execution_count": null,
   "metadata": {},
   "outputs": [],
   "source": [
    "img_mono = img.sum(axis=2)\n",
    "print(img_mono.shape)"
   ]
  },
  {
   "cell_type": "code",
   "execution_count": null,
   "metadata": {},
   "outputs": [],
   "source": [
    "plt.subplot(1, 2, 1)\n",
    "plt.imshow(img)\n",
    "plt.axis('off')\n",
    "\n",
    "plt.subplot(1, 2, 2)\n",
    "plt.imshow(img_mono, cmap='gray')\n",
    "plt.axis('off')\n",
    "plt.colorbar()\n",
    "plt.show()"
   ]
  },
  {
   "cell_type": "code",
   "execution_count": null,
   "metadata": {},
   "outputs": [],
   "source": [
    "bayimg = plt.imread('.\\\\Data\\\\640px-Unequalized_Hawkes_Bay_NZ.jpg')\n",
    "print(bayimg.shape)\n",
    "plt.imshow(bayimg, cmap='gray')\n",
    "plt.colorbar()\n",
    "plt.show()"
   ]
  },
  {
   "cell_type": "code",
   "execution_count": null,
   "metadata": {},
   "outputs": [],
   "source": [
    "#intensity = bayimg.sum(axis=2)\n",
    "#plt.imshow(intensity, cmap='gray')\n",
    "#plt.colorbar()\n",
    "#plt.show()"
   ]
  },
  {
   "cell_type": "code",
   "execution_count": null,
   "metadata": {},
   "outputs": [],
   "source": [
    "pmin, pmax = bayimg.min(), bayimg.max()\n",
    "rescaled = (256 * (bayimg - pmin)) / (pmax - pmin)\n",
    "print(rescaled.shape)\n",
    "print(\"pmin, pmax %.1f & %.1f\" % (pmin, pmax))\n",
    "print(\"rescaled min and max %.f & %.f\" % (rescaled.min(), rescaled.max()))"
   ]
  },
  {
   "cell_type": "code",
   "execution_count": null,
   "metadata": {},
   "outputs": [],
   "source": [
    "plt.imshow(rescaled, cmap='gray')\n",
    "plt.colorbar()\n",
    "plt.show()"
   ]
  },
  {
   "cell_type": "code",
   "execution_count": null,
   "metadata": {},
   "outputs": [],
   "source": [
    "img = plt.imread('.\\\\Data\\\\640px-Unequalized_Hawkes_Bay_NZ.jpg')\n",
    "print(bayimg.shape)\n",
    "pixels = img.flatten()"
   ]
  },
  {
   "cell_type": "code",
   "execution_count": null,
   "metadata": {},
   "outputs": [],
   "source": [
    "plt.subplot(2, 1, 1)\n",
    "plt.imshow(bayimg, cmap='gray')\n",
    "plt.axis('off')\n",
    "plt.title('Originial Image')\n",
    "#plt.colorbar()\n",
    "\n",
    "plt.subplot(2, 1, 2)\n",
    "plt.title('Normalized histogram')\n",
    "plt.hist(pixels, bins=64, range=(0, 256), density=True, color='red', alpha=0.4)\n",
    "\n",
    "plt.twinx()\n",
    "plt.hist(pixels, bins=64, range=(0,256), density=True, cumulative=True, color='blue', alpha=0.4)\n",
    "plt.xlim((0, 256))\n",
    "\n",
    "plt.tight_layout()\n",
    "plt.show()"
   ]
  },
  {
   "cell_type": "code",
   "execution_count": null,
   "metadata": {},
   "outputs": [],
   "source": [
    "cdf, bins, patches = plt.hist(pixels, bins=256, range=(0,256), density=True, cumulative=True)\n",
    "\n",
    "new_pixels = np.interp(pixels, bins[:-1], cdf*255)\n",
    "print(new_pixels.shape)\n",
    "new_img = new_pixels.reshape(img.shape)\n",
    "print(new_img.shape)"
   ]
  },
  {
   "cell_type": "code",
   "execution_count": null,
   "metadata": {},
   "outputs": [],
   "source": [
    "plt.subplot(2, 1, 1)\n",
    "plt.imshow(new_img, cmap='gray')\n",
    "plt.axis('off')\n",
    "\n",
    "plt.subplot(2, 1, 2)\n",
    "plt.hist(new_pixels, bins=64, range=(0, 256), density=True, alpha=0.4, color='red')\n",
    "\n",
    "plt.twinx()\n",
    "plt.hist(new_pixels, bins=64, range=(0,256), density=True, cumulative=True, alpha=0.4)\n",
    "\n",
    "plt.show()"
   ]
  }
 ],
 "metadata": {
  "kernelspec": {
   "display_name": "Python 3",
   "language": "python",
   "name": "python3"
  },
  "language_info": {
   "codemirror_mode": {
    "name": "ipython",
    "version": 3
   },
   "file_extension": ".py",
   "mimetype": "text/x-python",
   "name": "python",
   "nbconvert_exporter": "python",
   "pygments_lexer": "ipython3",
   "version": "3.7.1"
  }
 },
 "nbformat": 4,
 "nbformat_minor": 2
}
