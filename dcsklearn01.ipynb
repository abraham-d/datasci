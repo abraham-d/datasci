{
 "cells": [
  {
   "cell_type": "code",
   "execution_count": null,
   "metadata": {},
   "outputs": [],
   "source": [
    "import pandas as pd\n",
    "import numpy as np\n",
    "import matplotlib.pyplot as plt\n",
    "\n",
    "from sklearn import datasets\n",
    "\n",
    "plt.style.use('ggplot')"
   ]
  },
  {
   "cell_type": "code",
   "execution_count": null,
   "metadata": {},
   "outputs": [],
   "source": [
    "boston = datasets.load_boston()"
   ]
  },
  {
   "cell_type": "code",
   "execution_count": null,
   "metadata": {},
   "outputs": [],
   "source": [
    "df = pd.DataFrame(data=boston['data'], columns=boston['feature_names'])"
   ]
  },
  {
   "cell_type": "code",
   "execution_count": null,
   "metadata": {},
   "outputs": [],
   "source": [
    "df.head()\n",
    "df[df.isna().any(axis=1)]\n",
    "df.isna()"
   ]
  },
  {
   "cell_type": "code",
   "execution_count": null,
   "metadata": {},
   "outputs": [],
   "source": [
    "print(type(boston))\n",
    "print(boston.keys())\n",
    "print(boston['feature_names'])"
   ]
  },
  {
   "cell_type": "code",
   "execution_count": null,
   "metadata": {},
   "outputs": [],
   "source": [
    "X = boston['data']\n",
    "y = boston['target']\n",
    "print(type(y))\n",
    "print(y.shape)\n",
    "y = y.reshape(-1, 1)\n",
    "print(y.shape)\n",
    "#help(y.reshape)"
   ]
  },
  {
   "cell_type": "code",
   "execution_count": null,
   "metadata": {},
   "outputs": [],
   "source": [
    "X_rooms = X[:,5]\n",
    "plt.scatter(X_rooms, y)\n",
    "plt.xlabel('Number of rooms')\n",
    "plt.ylabel('Value of House (thousand ($))')\n",
    "plt.show()"
   ]
  },
  {
   "cell_type": "code",
   "execution_count": null,
   "metadata": {},
   "outputs": [],
   "source": [
    "from sklearn import linear_model\n",
    "reg = linear_model.LinearRegression()\n",
    "X_rooms = X_rooms.reshape(-1, 1)\n",
    "reg.fit(X_rooms, y)\n",
    "#print(X_rooms.shape, y.shape)"
   ]
  },
  {
   "cell_type": "code",
   "execution_count": null,
   "metadata": {},
   "outputs": [],
   "source": [
    "prediction_space = np.linspace(min(X_rooms), max(X_rooms)).reshape(-1, 1)\n",
    "#print(prediction_space.shape)\n",
    "#reg.predict(prediction_space)\n",
    "plt.scatter(X_rooms, y, color='blue')\n",
    "plt.xlabel('Number of rooms')\n",
    "plt.ylabel('Value of home (thousand $)')\n",
    "plt.plot(prediction_space, reg.predict(prediction_space), color='black')\n",
    "plt.show()"
   ]
  }
 ],
 "metadata": {
  "kernelspec": {
   "display_name": "Python 3",
   "language": "python",
   "name": "python3"
  },
  "language_info": {
   "codemirror_mode": {
    "name": "ipython",
    "version": 3
   },
   "file_extension": ".py",
   "mimetype": "text/x-python",
   "name": "python",
   "nbconvert_exporter": "python",
   "pygments_lexer": "ipython3",
   "version": "3.7.3"
  }
 },
 "nbformat": 4,
 "nbformat_minor": 2
}
